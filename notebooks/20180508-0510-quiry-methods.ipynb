{
 "cells": [
  {
   "cell_type": "code",
   "execution_count": 6,
   "metadata": {
    "collapsed": true
   },
   "outputs": [],
   "source": [
    "import pymatgen as mg\n",
    "import os, re\n",
    "rester = mg.MPRester(os.environ['PMG_MAPI_KEY'])"
   ]
  },
  {
   "cell_type": "code",
   "execution_count": 9,
   "metadata": {},
   "outputs": [
    {
     "name": "stdout",
     "output_type": "stream",
     "text": [
      "610\n"
     ]
    }
   ],
   "source": [
    "\n",
    "\n",
    "comp = mg.Composition(\"Fe2O3\")\n",
    "anon_formula = comp.anonymized_formula\n",
    "# We need to convert the formula to the dict form used in the database.\n",
    "anon_formula = {m.group(1): int(m.group(2)) \n",
    "                for m in re.finditer(r\"([A-Z]+)(\\d+)\", anon_formula)}\n",
    "\n",
    "data = rester.query({\"anonymous_formula\": anon_formula}, \n",
    "                 properties=[\"task_id\", \"pretty_formula\", \"structure\"])\n",
    "print(len(data))  #Should show ~600 data."
   ]
  },
  {
   "cell_type": "code",
   "execution_count": null,
   "metadata": {
    "collapsed": true
   },
   "outputs": [],
   "source": []
  },
  {
   "cell_type": "code",
   "execution_count": 25,
   "metadata": {},
   "outputs": [
    {
     "name": "stdout",
     "output_type": "stream",
     "text": [
      "{'A': 3, 'B': 4}\n",
      "273\n"
     ]
    }
   ],
   "source": [
    "comp = mg.Composition(\"Fe3O4\")\n",
    "anon_formula = comp.anonymized_formula\n",
    "# We need to convert the formula to the dict form used in the database.\n",
    "anon_formula = {m.group(1): int(m.group(2)) \n",
    "                for m in re.finditer(r\"([A-Z]+)(\\d+)\", anon_formula)}\n",
    "print(anon_formula)\n",
    "data = rester.query({\"anonymous_formula\": anon_formula}, \n",
    "                 properties=[\"task_id\", \"pretty_formula\", \"structure\"])\n",
    "print(len(data))  #Should show ~600 data."
   ]
  },
  {
   "cell_type": "code",
   "execution_count": 18,
   "metadata": {},
   "outputs": [
    {
     "data": {
      "text/plain": [
       "'ABC3'"
      ]
     },
     "execution_count": 18,
     "metadata": {},
     "output_type": "execute_result"
    }
   ],
   "source": [
    "comp = mg.Composition(\"LaWN3\")\n",
    "anon_formula = comp.anonymized_formula\n",
    "anon_formula"
   ]
  },
  {
   "cell_type": "code",
   "execution_count": 26,
   "metadata": {},
   "outputs": [
    {
     "data": {
      "text/plain": [
       "dict"
      ]
     },
     "execution_count": 26,
     "metadata": {},
     "output_type": "execute_result"
    }
   ],
   "source": [
    "type(anon_formula)"
   ]
  },
  {
   "cell_type": "code",
   "execution_count": 45,
   "metadata": {},
   "outputs": [
    {
     "name": "stdout",
     "output_type": "stream",
     "text": [
      "<class 'str'>\n",
      "A2B3\n",
      "{'A': 2, 'B': 3}\n"
     ]
    }
   ],
   "source": [
    "comp = mg.Composition(\"Fe2O3\")\n",
    "anon_formula = comp.anonymized_formula\n",
    "print(type(anon_formula))\n",
    "print(anon_formula)\n",
    "# We need to convert the formula to the dict form used in the database.\n",
    "anon_formula = {m.group(1): int(m.group(2)) \n",
    "                for m in re.finditer(r\"([A-Z]+)(\\d+)\", anon_formula)}\n",
    "print(anon_formula)\n",
    "# data = rester.query({\"anonymous_formula\": anon_formula}, \n",
    "#                  properties=[\"task_id\", \"pretty_formula\", \"structure\"])\n",
    "# print(len(data))  #Should show ~600 data.\n",
    "\n"
   ]
  },
  {
   "cell_type": "code",
   "execution_count": 41,
   "metadata": {},
   "outputs": [
    {
     "name": "stdout",
     "output_type": "stream",
     "text": [
      "{'A': 2, 'B': 3}\n",
      "610\n"
     ]
    }
   ],
   "source": [
    "comp = mg.Composition(\"Mn2O3\")\n",
    "anon_formula = comp.anonymized_formula\n",
    "# We need to convert the formula to the dict form used in the database.\n",
    "anon_formula = {m.group(1): int(m.group(2)) \n",
    "                for m in re.finditer(r\"([A-Z]+)(\\d+)\", anon_formula)}\n",
    "print(anon_formula)\n",
    "data = rester.query({\"anonymous_formula\": anon_formula}, \n",
    "                 properties=[\"task_id\", \"pretty_formula\", \"structure\"])\n",
    "print(len(data))  #Should show ~600 data."
   ]
  },
  {
   "cell_type": "code",
   "execution_count": 47,
   "metadata": {},
   "outputs": [
    {
     "name": "stdout",
     "output_type": "stream",
     "text": [
      "<class 'str'>\n",
      "A2B3\n"
     ]
    }
   ],
   "source": [
    "comp = mg.Composition(\"Fe2O3\")\n",
    "anon_formula = comp.anonymized_formula\n",
    "print(type(anon_formula))\n",
    "print(anon_formula)"
   ]
  },
  {
   "cell_type": "code",
   "execution_count": 52,
   "metadata": {},
   "outputs": [
    {
     "ename": "ValueError",
     "evalue": "not enough values to unpack (expected 4, got 1)",
     "output_type": "error",
     "traceback": [
      "\u001b[0;31m-----------------------------------------------------------------------\u001b[0m",
      "\u001b[0;31mValueError\u001b[0m                            Traceback (most recent call last)",
      "\u001b[0;32m<ipython-input-52-90526e6df19b>\u001b[0m in \u001b[0;36m<module>\u001b[0;34m()\u001b[0m\n\u001b[0;32m----> 1\u001b[0;31m \u001b[0ma\u001b[0m\u001b[0;34m,\u001b[0m \u001b[0mb\u001b[0m\u001b[0;34m,\u001b[0m \u001b[0mc\u001b[0m\u001b[0;34m,\u001b[0m \u001b[0md\u001b[0m \u001b[0;34m=\u001b[0m \u001b[0manon_formula\u001b[0m\u001b[0;34m.\u001b[0m\u001b[0msplit\u001b[0m\u001b[0;34m(\u001b[0m\u001b[0;34m)\u001b[0m\u001b[0;34m\u001b[0m\u001b[0m\n\u001b[0m",
      "\u001b[0;31mValueError\u001b[0m: not enough values to unpack (expected 4, got 1)"
     ]
    }
   ],
   "source": [
    "a, b, c, d = anon_formula.split()"
   ]
  },
  {
   "cell_type": "code",
   "execution_count": 80,
   "metadata": {},
   "outputs": [
    {
     "name": "stdout",
     "output_type": "stream",
     "text": [
      "Fe2\n",
      "Fe\n",
      "2\n",
      "Fe2S2\n",
      "Fe2S2\n"
     ]
    }
   ],
   "source": [
    "\n",
    "import re\n",
    "\n",
    "# s = raw_input('a2b2')\n",
    "s = 'Fe2S2O3'\n",
    "m = re.match(r\"([a-zA-Z]+)([0-9]+)\",s)\n",
    "print(m.group(0))\n",
    "print(m.group(1))\n",
    "print(m.group(2))\n",
    "\n",
    "n = re.match(r\"([a-zA-Z]+)([0-9]+)([a-zA-Z]+)([0-9]+)\",s)\n",
    "\n",
    "print(n.group(0))\n",
    "print(n.group(0))"
   ]
  },
  {
   "cell_type": "code",
   "execution_count": 81,
   "metadata": {},
   "outputs": [
    {
     "data": {
      "text/plain": [
       "'F'"
      ]
     },
     "execution_count": 81,
     "metadata": {},
     "output_type": "execute_result"
    }
   ],
   "source": [
    "n.group(0)[0]"
   ]
  },
  {
   "cell_type": "code",
   "execution_count": 67,
   "metadata": {},
   "outputs": [
    {
     "name": "stdout",
     "output_type": "stream",
     "text": [
      "{'A': 2, 'B': 3}\n",
      "610\n"
     ]
    }
   ],
   "source": [
    "comp = mg.Composition(\"Fe2O3\")\n",
    "anon_formula = comp.anonymized_formula\n",
    "# We need to convert the formula to the dict form used in the database.\n",
    "anon_formula = {m.group(1): int(m.group(2)) \n",
    "                for m in re.finditer(r\"([a-zA-Z]+)([0-9]+)\", anon_formula)}\n",
    "print(anon_formula)\n",
    "data = rester.query({\"anonymous_formula\": anon_formula}, \n",
    "                 properties=[\"task_id\", \"pretty_formula\", \"structure\"])\n",
    "print(len(data))  #Should show ~600 data."
   ]
  },
  {
   "cell_type": "code",
   "execution_count": null,
   "metadata": {
    "collapsed": true
   },
   "outputs": [],
   "source": []
  },
  {
   "cell_type": "code",
   "execution_count": null,
   "metadata": {
    "collapsed": true
   },
   "outputs": [],
   "source": []
  },
  {
   "cell_type": "code",
   "execution_count": null,
   "metadata": {
    "collapsed": true
   },
   "outputs": [],
   "source": []
  },
  {
   "cell_type": "code",
   "execution_count": null,
   "metadata": {
    "collapsed": true
   },
   "outputs": [],
   "source": []
  },
  {
   "cell_type": "code",
   "execution_count": 1,
   "metadata": {},
   "outputs": [
    {
     "name": "stdout",
     "output_type": "stream",
     "text": [
      "{'energy': -262.93588696, 'energy_per_atom': -6.573397174, 'volume': 412.52125239361567, 'formation_energy_per_atom': -1.742722074750001, 'nsites': 40, 'unit_cell_formula': {'Fe': 16.0, 'O': 24.0}, 'pretty_formula': 'Fe2O3', 'is_hubbard': True, 'elements': ['Fe', 'O'], 'nelements': 2, 'e_above_hull': 0.14344305300000038, 'hubbards': {'Fe': 5.3, 'O': 0.0}, 'is_compatible': True, 'spacegroup': {'source': 'spglib', 'symbol': 'P1', 'number': 1, 'point_group': '1', 'crystal_system': 'triclinic', 'hall': 'P 1'}, 'task_ids': ['mp-777192'], 'band_gap': 0.9422000000000001, 'density': 5.142396689406187, 'icsd_id': None, 'icsd_ids': [], 'cif': \"# generated using pymatgen\\ndata_Fe2O3\\n_symmetry_space_group_name_H-M   'P 1'\\n_cell_length_a   5.14257520\\n_cell_length_b   5.38325856\\n_cell_length_c   14.90158199\\n_cell_angle_alpha   90.39095785\\n_cell_angle_beta   90.01411824\\n_cell_angle_gamma   89.83420415\\n_symmetry_Int_Tables_number   1\\n_chemical_formula_structural   Fe2O3\\n_chemical_formula_sum   'Fe16 O24'\\n_cell_volume   412.52125239\\n_cell_formula_units_Z   8\\nloop_\\n _symmetry_equiv_pos_site_id\\n _symmetry_equiv_pos_as_xyz\\n  1  'x, y, z'\\nloop_\\n _atom_site_type_symbol\\n _atom_site_label\\n _atom_site_symmetry_multiplicity\\n _atom_site_fract_x\\n _atom_site_fract_y\\n _atom_site_fract_z\\n _atom_site_occupancy\\n  Fe  Fe1  1  0.000375  0.177183  0.076310  1\\n  Fe  Fe2  1  0.997886  0.739508  0.179052  1\\n  Fe  Fe3  1  0.003341  0.316378  0.572028  1\\n  Fe  Fe4  1  -0.002900  0.762989  0.679902  1\\n  Fe  Fe5  1  0.500270  0.239631  0.181764  1\\n  Fe  Fe6  1  0.502486  0.258992  0.680792  1\\n  Fe  Fe7  1  0.498664  0.676592  0.074901  1\\n  Fe  Fe8  1  0.497704  0.814652  0.572552  1\\n  Fe  Fe9  1  0.503190  0.185671  0.426400  1\\n  Fe  Fe10  1  0.502715  0.315637  0.929838  1\\n  Fe  Fe11  1  0.500121  0.744262  0.319010  1\\n  Fe  Fe12  1  0.498577  0.755658  0.821260  1\\n  Fe  Fe13  1  -0.000938  0.687365  0.425233  1\\n  Fe  Fe14  1  0.998068  0.249015  0.324339  1\\n  Fe  Fe15  1  0.003798  0.261236  0.821114  1\\n  Fe  Fe16  1  -0.001505  0.818924  0.928531  1\\n  O  O17  1  0.136778  0.118114  0.205698  1\\n  O  O18  1  0.142147  0.389906  0.702804  1\\n  O  O19  1  0.146903  0.845228  0.052028  1\\n  O  O20  1  0.153473  0.665790  0.548835  1\\n  O  O21  1  0.191798  0.964504  0.372689  1\\n  O  O22  1  0.197726  0.541569  0.877338  1\\n  O  O23  1  0.297866  0.455342  0.371523  1\\n  O  O24  1  0.297759  0.040631  0.876649  1\\n  O  O25  1  0.346512  0.166961  0.549328  1\\n  O  O26  1  0.347636  0.344419  0.051890  1\\n  O  O27  1  0.364594  0.616185  0.200956  1\\n  O  O28  1  0.360249  0.889569  0.702714  1\\n  O  O29  1  0.653791  0.103105  0.297312  1\\n  O  O30  1  0.642475  0.389771  0.797190  1\\n  O  O31  1  0.647226  0.829434  0.447911  1\\n  O  O32  1  0.651933  0.669039  0.950505  1\\n  O  O33  1  0.701717  0.538294  0.621850  1\\n  O  O34  1  0.694092  0.954292  0.123718  1\\n  O  O35  1  0.805668  0.453571  0.121955  1\\n  O  O36  1  0.803958  0.041862  0.622362  1\\n  O  O37  1  0.853285  0.329850  0.446898  1\\n  O  O38  1  0.846613  0.167277  0.951576  1\\n  O  O39  1  0.857009  0.888021  0.797017  1\\n  O  O40  1  0.856938  0.593574  0.296230  1\\n\", 'total_magnetization': 37.9999511, 'material_id': 'mp-777192', 'oxide_type': 'oxide', 'tags': [], 'elasticity': None, 'piezo': None, 'diel': None, 'full_formula': 'Fe16O24'}\n"
     ]
    }
   ],
   "source": [
    "import pymatgen as mg\n",
    "import os, re\n",
    "# rester = mg.MPRester(os.environ['PMG_MAPI_KEY'])\n",
    "\n",
    "with mg.MPRester(os.environ['PMG_MAPI_KEY']) as m:\n",
    "\n",
    "    #Structure for material id\n",
    "    structure = m.get_structure_by_material_id(\"mp-1234\")\n",
    "\n",
    "    #Dos for material id\n",
    "    dos = m.get_dos_by_material_id(\"\n",
    "                                   \")\n",
    "\n",
    "    #Bandstructure for material id\n",
    "    bandstructure = m.get_bandstructure_by_material_id(\"mp-1234\")\n",
    "    \n",
    "    #To get a list of data for all entries having formula Fe2O3\n",
    "    data = m.get_data(\"Fe2O3\")\n",
    "    print(data[0])\n",
    "    \n",
    "    #To get the energies of all entries having formula Fe2O3\n",
    "#     energies = m.get_data(\"Fe2O3\", \"energy\")\n",
    "    \n",
    "    \n"
   ]
  },
  {
   "cell_type": "markdown",
   "metadata": {},
   "source": [
    "## Print volume/f.u. for the requested material"
   ]
  },
  {
   "cell_type": "code",
   "execution_count": 13,
   "metadata": {
    "collapsed": true
   },
   "outputs": [
    {
     "ename": "IndexError",
     "evalue": "list index out of range",
     "output_type": "error",
     "traceback": [
      "\u001b[0;31m---------------------------------------------------------------------------\u001b[0m",
      "\u001b[0;31mIndexError\u001b[0m                                Traceback (most recent call last)",
      "\u001b[0;32m<ipython-input-13-9b2aa7018efe>\u001b[0m in \u001b[0;36m<module>\u001b[0;34m()\u001b[0m\n\u001b[1;32m      6\u001b[0m \u001b[0;34m\u001b[0m\u001b[0m\n\u001b[1;32m      7\u001b[0m     \u001b[0;31m#Structure for material id\u001b[0m\u001b[0;34m\u001b[0m\u001b[0;34m\u001b[0m\u001b[0m\n\u001b[0;32m----> 8\u001b[0;31m     \u001b[0mstructure\u001b[0m \u001b[0;34m=\u001b[0m \u001b[0mm\u001b[0m\u001b[0;34m.\u001b[0m\u001b[0mget_structure_by_material_id\u001b[0m\u001b[0;34m(\u001b[0m\u001b[0;34m\"mp-10932\"\u001b[0m\u001b[0;34m)\u001b[0m\u001b[0;34m\u001b[0m\u001b[0m\n\u001b[0m\u001b[1;32m      9\u001b[0m     \u001b[0mdensity\u001b[0m \u001b[0;34m=\u001b[0m \u001b[0mstructure\u001b[0m\u001b[0;34m.\u001b[0m\u001b[0mdensity\u001b[0m \u001b[0;31m# Returns the density in units of g/cc (cc, cubic centimeter)\u001b[0m\u001b[0;34m\u001b[0m\u001b[0m\n\u001b[1;32m     10\u001b[0m \u001b[0;31m#     print(structure.volume)\u001b[0m\u001b[0;34m\u001b[0m\u001b[0;34m\u001b[0m\u001b[0m\n",
      "\u001b[0;32m~/.local/lib/python3.6/site-packages/pymatgen/ext/matproj.py\u001b[0m in \u001b[0;36mget_structure_by_material_id\u001b[0;34m(self, material_id, final, conventional_unit_cell)\u001b[0m\n\u001b[1;32m    496\u001b[0m             \u001b[0mdata\u001b[0m\u001b[0;34m[\u001b[0m\u001b[0;36m0\u001b[0m\u001b[0;34m]\u001b[0m\u001b[0;34m[\u001b[0m\u001b[0mprop\u001b[0m\u001b[0;34m]\u001b[0m \u001b[0;34m=\u001b[0m \u001b[0mSpacegroupAnalyzer\u001b[0m\u001b[0;34m(\u001b[0m\u001b[0mdata\u001b[0m\u001b[0;34m[\u001b[0m\u001b[0;36m0\u001b[0m\u001b[0;34m]\u001b[0m\u001b[0;34m[\u001b[0m\u001b[0mprop\u001b[0m\u001b[0;34m]\u001b[0m\u001b[0;34m)\u001b[0m\u001b[0;34m.\u001b[0m\u001b[0;31m \u001b[0m\u001b[0;31m\\\u001b[0m\u001b[0;34m\u001b[0m\u001b[0m\n\u001b[1;32m    497\u001b[0m                 \u001b[0mget_conventional_standard_structure\u001b[0m\u001b[0;34m(\u001b[0m\u001b[0;34m)\u001b[0m\u001b[0;34m\u001b[0m\u001b[0m\n\u001b[0;32m--> 498\u001b[0;31m         \u001b[0;32mreturn\u001b[0m \u001b[0mdata\u001b[0m\u001b[0;34m[\u001b[0m\u001b[0;36m0\u001b[0m\u001b[0;34m]\u001b[0m\u001b[0;34m[\u001b[0m\u001b[0mprop\u001b[0m\u001b[0;34m]\u001b[0m\u001b[0;34m\u001b[0m\u001b[0m\n\u001b[0m\u001b[1;32m    499\u001b[0m \u001b[0;34m\u001b[0m\u001b[0m\n\u001b[1;32m    500\u001b[0m     def get_entry_by_material_id(self, material_id, compatible_only=True,\n",
      "\u001b[0;31mIndexError\u001b[0m: list index out of range"
     ]
    }
   ],
   "source": [
    "import pymatgen as mg\n",
    "import os, re\n",
    "# rester = mg.MPRester(os.environ['PMG_MAPI_KEY'])\n",
    "\n",
    "with mg.MPRester(os.environ['PMG_MAPI_KEY']) as m:\n",
    "\n",
    "    #Structure for material id\n",
    "    structure = m.get_structure_by_material_id(\"mp-10932\")\n",
    "    density = structure.density # Returns the density in units of g/cc (cc, cubic centimeter)\n",
    "#     print(structure.volume)\n",
    "#     print(len(structure.sites[:]))\n",
    "#     print(type(structure.formula))\n",
    "#     print(type(structure.composition))\n",
    "    composition = structure.composition\n",
    "    reduced_composition = composition.reduced_composition\n",
    "    number_of_fu = composition.num_atoms/reduced_composition.num_atoms\n",
    "    volume_fu = structure.volume/number_of_fu\n",
    "    print(volume_fu) # print volume per formula unit\n",
    "    print(density) # Returns the density in units of g/cc"
   ]
  },
  {
   "cell_type": "code",
   "execution_count": 98,
   "metadata": {},
   "outputs": [
    {
     "name": "stdout",
     "output_type": "stream",
     "text": [
      "{'mp-8453', 'mp-22987', 'mp-23072', 'mp-20194', 'mp-28066', 'mp-12903', 'mp-10760', 'mp-2604', 'mp-8751', 'mp-286', 'mp-756361', 'mp-23058', 'mp-1779', 'mp-753173', 'mp-2605', 'mp-581833', 'mp-31454', 'mp-10695', 'mp-9250', 'mp-12902', 'mp-1315', 'mp-4824', 'mp-2176', 'mp-2172', 'mp-2691', 'mp-27985', 'mp-13033', 'mp-23023', 'mp-27439', 'mp-924129', 'mp-10322', 'mp-1253', 'mp-7787', 'mp-675230', 'mp-406', 'mp-961685', 'mp-7173', 'mp-10074', 'mp-7950', 'mp-470', 'mp-10621', 'mp-16363', 'mp-9124', 'mp-3551', 'mp-862832', 'mp-10932', 'mp-2490', 'mp-9437', 'mp-7100', 'mp-30847', 'mp-28065', 'mp-23068', 'mp-676360', 'mp-252', 'mp-643', 'mp-27823', 'mp-856', 'mp-3104', 'mp-754212', 'mp-23025', 'mp-23856', 'mp-8799', 'mp-1672', 'mp-12904', 'mp-7599', 'mp-755336', 'mp-1415', 'mp-1500', 'mp-675199', 'mp-8756', 'mp-22939', 'mp-730', 'mp-1820', 'mp-754969', 'mp-12558', 'mp-23074', 'mp-1342', 'mp-10623', 'mp-1541', 'mp-37906', 'mp-961682', 'mp-2030', 'mp-19886', 'mp-5967', 'mp-1519', 'mp-1216', 'mp-961684', 'mp-961711', 'mp-7089', 'mp-10219', 'mp-5962', 'mp-390', 'mp-557', 'mp-27984', 'mp-13032', 'mp-29327', 'mp-754403', 'mp-9915', 'mp-16327', 'mp-1550', 'mp-16329', 'mp-13031', 'mp-753594', 'mp-1700', 'mp-29254', 'mp-19717', 'mp-16376', 'mp-29731', 'mp-1265', 'mp-2758', 'mp-16236', 'mp-4024', 'mp-8658', 'mp-29138', 'mp-7548', 'mp-8430', 'mp-2574', 'mp-1958', 'mp-4495', 'mp-10182', 'mp-567636', 'mp-9562', 'mp-28067', 'mp-36111', 'mp-1190', 'mp-3614', 'mp-754217', 'mp-2469', 'mp-7090', 'mp-2589', 'mp-924130', 'mp-8484', 'mp-12620', 'mp-8452', 'mp-9845', 'mp-7575', 'mp-30993'}\n"
     ]
    }
   ],
   "source": [
    "# set1 = 'mp-1190-20180417'\n",
    "new_set = {x.replace('-20180417', '') for x in mpid['ID']}\n",
    "print(new_set)\n"
   ]
  },
  {
   "cell_type": "code",
   "execution_count": 12,
   "metadata": {},
   "outputs": [
    {
     "name": "stdout",
     "output_type": "stream",
     "text": [
      "                 ID  volume_fu  density\n",
      "0  mp-1190-20180417          1        2\n",
      "1  mp-1216-20180417          1        2\n",
      "2  mp-1253-20180417          1        2\n",
      "                                ID  volume_fu  density\n",
      "ID                                                    \n",
      "mp-1190-20180417  mp-1190-20180417          1        2\n",
      "mp-1216-20180417  mp-1216-20180417          1        2\n",
      "mp-1253-20180417  mp-1253-20180417          1        2\n",
      "                                ID  volume_fu  density\n",
      "ID                                                    \n",
      "mp-1190-20180417  mp-1190-20180417        3.5        2\n",
      "mp-1216-20180417  mp-1216-20180417        1.0        2\n",
      "mp-1253-20180417  mp-1253-20180417        1.0        2\n"
     ]
    }
   ],
   "source": [
    "import pymatgen as mg\n",
    "import os, re\n",
    "import pandas as pd\n",
    "mpid = pd.read_csv('./mpid-only-temp.csv', delim_whitespace=True)\n",
    "mpid['volume_fu'], mpid['density'] = 1,2\n",
    "print(mpid.head(3))\n",
    "\n",
    "mpid = mpid.set_index(mpid['ID'])\n",
    "print(mpid.head(3))\n",
    "mpid.loc['mp-1190-20180417', ['volume_fu']] = 3.5\n",
    "print(mpid)\n",
    "\n",
    "\"\"\"\n",
    "The content of mpid-only-temp.csv is as follows\n",
    "        ID\n",
    "0       mp-1190-20180417\n",
    "1       mp-1216-20180417\n",
    "2       mp-1253-20180417\n",
    "\"\"\""
   ]
  },
  {
   "cell_type": "code",
   "execution_count": null,
   "metadata": {},
   "outputs": [],
   "source": []
  },
  {
   "cell_type": "code",
   "execution_count": 14,
   "metadata": {},
   "outputs": [
    {
     "name": "stdout",
     "output_type": "stream",
     "text": [
      "mp-1190 47.3376454287 5.064264571986021\n",
      "mp-1216 26.7770706054 11.722988986519702\n",
      "mp-1253 74.7411336984 4.805292475139997\n",
      "                                ID  volume_fu    density\n",
      "ID                                                      \n",
      "mp-1190-20180417  mp-1190-20180417  47.337645   5.064265\n",
      "mp-1216-20180417  mp-1216-20180417  26.777071  11.722989\n",
      "mp-1253-20180417  mp-1253-20180417  74.741134   4.805292\n"
     ]
    }
   ],
   "source": [
    "import pymatgen as mg\n",
    "import os, re\n",
    "import pandas as pd\n",
    "mpid = pd.read_csv('./mpid-only-temp.csv', delim_whitespace=True)\n",
    "mpid['volume_fu'], mpid['density'] = 1,1\n",
    "mpid = mpid.set_index(mpid['ID']) # set the ID column as asl the index\n",
    "mpid.drop('mp-10932-20180417',inplace=True)\n",
    "for i in mpid['ID']:\n",
    "    id_trim = i.replace('-20180417', '')\n",
    "#     print(id_trim)\n",
    "    with mg.MPRester(os.environ['PMG_MAPI_KEY']) as m:\n",
    "        structure = m.get_structure_by_material_id(id_trim)\n",
    "        density = structure.density # Returns the density in units of g/cc (cc, cubic centimeter)\n",
    "        density = float(density) # throw the unit\n",
    "#         print(type(density))\n",
    "        composition = structure.composition\n",
    "        reduced_composition = composition.reduced_composition\n",
    "        number_of_fu = composition.num_atoms/reduced_composition.num_atoms\n",
    "        volume_fu = structure.volume/number_of_fu\n",
    "        mpid.loc[i, ['volume_fu']]  = volume_fu\n",
    "        mpid.loc[i, ['density']]  = density\n",
    "        print(id_trim+\"\", volume_fu, density) # print volume per formula unit\n",
    "        \n",
    "print(mpid)"
   ]
  },
  {
   "cell_type": "code",
   "execution_count": null,
   "metadata": {},
   "outputs": [],
   "source": []
  },
  {
   "cell_type": "code",
   "execution_count": 53,
   "metadata": {},
   "outputs": [
    {
     "data": {
      "text/plain": [
       "6"
      ]
     },
     "execution_count": 53,
     "metadata": {},
     "output_type": "execute_result"
    }
   ],
   "source": [
    "len(structure.sites[:])"
   ]
  },
  {
   "cell_type": "code",
   "execution_count": 57,
   "metadata": {},
   "outputs": [
    {
     "name": "stdout",
     "output_type": "stream",
     "text": [
      "<class 'str'>\n"
     ]
    }
   ],
   "source": [
    "fu = structure.formula\n",
    "print(type(fu))"
   ]
  },
  {
   "cell_type": "code",
   "execution_count": 102,
   "metadata": {},
   "outputs": [
    {
     "name": "stdout",
     "output_type": "stream",
     "text": [
      "[{'energy': -12.49473715}, {'energy': -66.6138121}, {'energy': -132.81667588}, {'energy': -6.24620528}, {'energy': -33.26626098}, {'energy': -27.31995683}, {'energy': -66.61534328}, {'energy': -33.22108186}, {'energy': -14.58223165}]\n",
      "[ComputedEntry mp-135 - Li1\n",
      "Energy = -1.9089\n",
      "Correction = 0.0000\n",
      "Parameters:\n",
      "run_type = GGA\n",
      "is_hubbard = False\n",
      "pseudo_potential = {'labels': ['Li_sv'], 'pot_type': 'paw', 'functional': 'pbe'}\n",
      "hubbards = {}\n",
      "potcar_symbols = ['pbe Li_sv']\n",
      "oxide_type = None\n",
      "Data:\n",
      "oxide_type = None, ComputedEntry mp-10173 - Li2\n",
      "Energy = -3.8111\n",
      "Correction = 0.0000\n",
      "Parameters:\n",
      "run_type = GGA\n",
      "is_hubbard = False\n",
      "pseudo_potential = {'labels': ['Li_sv'], 'pot_type': 'paw', 'functional': 'pbe'}\n",
      "hubbards = {}\n",
      "potcar_symbols = ['pbe Li_sv']\n",
      "oxide_type = None\n",
      "Data:\n",
      "oxide_type = None, ComputedEntry mp-567337 - Li8\n",
      "Energy = -15.2464\n",
      "Correction = 0.0000\n",
      "Parameters:\n",
      "run_type = GGA\n",
      "is_hubbard = False\n",
      "pseudo_potential = {'labels': ['Li_sv'], 'pot_type': 'paw', 'functional': 'pbe'}\n",
      "hubbards = {}\n",
      "potcar_symbols = ['pbe Li_sv']\n",
      "oxide_type = None\n",
      "Data:\n",
      "oxide_type = None, ComputedEntry mp-51 - Li1\n",
      "Energy = -1.9055\n",
      "Correction = 0.0000\n",
      "Parameters:\n",
      "run_type = GGA\n",
      "is_hubbard = False\n",
      "pseudo_potential = {'labels': ['Li_sv'], 'pot_type': 'paw', 'functional': 'pbe'}\n",
      "hubbards = {}\n",
      "potcar_symbols = ['pbe Li_sv']\n",
      "oxide_type = None\n",
      "Data:\n",
      "oxide_type = None, ComputedEntry mp-976411 - Li4\n",
      "Energy = -7.6242\n",
      "Correction = 0.0000\n",
      "Parameters:\n",
      "run_type = GGA\n",
      "is_hubbard = False\n",
      "pseudo_potential = {'labels': ['Li_sv'], 'pot_type': 'paw', 'functional': 'pbe'}\n",
      "hubbards = {}\n",
      "potcar_symbols = ['pbe Li_sv']\n",
      "oxide_type = None\n",
      "Data:\n",
      "oxide_type = None, ComputedEntry mp-604313 - Li4\n",
      "Energy = -6.5086\n",
      "Correction = 0.0000\n",
      "Parameters:\n",
      "run_type = GGA\n",
      "is_hubbard = False\n",
      "pseudo_potential = {'labels': ['Li_sv'], 'pot_type': 'paw', 'functional': 'pbe'}\n",
      "hubbards = {}\n",
      "potcar_symbols = ['pbe Li_sv']\n",
      "oxide_type = None\n",
      "Data:\n",
      "oxide_type = None, ComputedEntry mp-1018134 - Li3\n",
      "Energy = -5.7216\n",
      "Correction = 0.0000\n",
      "Parameters:\n",
      "run_type = GGA\n",
      "is_hubbard = False\n",
      "pseudo_potential = {'labels': ['Li_sv'], 'pot_type': 'paw', 'functional': 'pbe'}\n",
      "hubbards = {}\n",
      "potcar_symbols = ['pbe Li_sv']\n",
      "oxide_type = None\n",
      "Data:\n",
      "oxide_type = None, ComputedEntry mp-672234 - N4\n",
      "Energy = -12.4947\n",
      "Correction = -19.3152\n",
      "Parameters:\n",
      "run_type = GGA\n",
      "is_hubbard = False\n",
      "pseudo_potential = {'labels': ['N'], 'pot_type': 'paw', 'functional': 'pbe'}\n",
      "hubbards = {}\n",
      "potcar_symbols = ['pbe N']\n",
      "oxide_type = None\n",
      "Data:\n",
      "oxide_type = None, ComputedEntry mp-25 - N8\n",
      "Energy = -66.6138\n",
      "Correction = 2.9940\n",
      "Parameters:\n",
      "run_type = GGA\n",
      "is_hubbard = False\n",
      "pseudo_potential = {'labels': ['N'], 'pot_type': 'paw', 'functional': 'pbe'}\n",
      "hubbards = {}\n",
      "potcar_symbols = ['pbe N']\n",
      "oxide_type = None\n",
      "Data:\n",
      "oxide_type = None, ComputedEntry mp-568584 - N16\n",
      "Energy = -132.8167\n",
      "Correction = 5.5771\n",
      "Parameters:\n",
      "run_type = GGA\n",
      "is_hubbard = False\n",
      "pseudo_potential = {'labels': ['N'], 'pot_type': 'paw', 'functional': 'pbe'}\n",
      "hubbards = {}\n",
      "potcar_symbols = ['pbe N']\n",
      "oxide_type = None\n",
      "Data:\n",
      "oxide_type = None, ComputedEntry mp-12103 - N2\n",
      "Energy = -6.2462\n",
      "Correction = -9.6587\n",
      "Parameters:\n",
      "run_type = GGA\n",
      "is_hubbard = False\n",
      "pseudo_potential = {'labels': ['N'], 'pot_type': 'paw', 'functional': 'pbe'}\n",
      "hubbards = {}\n",
      "potcar_symbols = ['pbe N']\n",
      "oxide_type = None\n",
      "Data:\n",
      "oxide_type = None, ComputedEntry mp-570747 - N4\n",
      "Energy = -33.2663\n",
      "Correction = 1.4564\n",
      "Parameters:\n",
      "run_type = GGA\n",
      "is_hubbard = False\n",
      "pseudo_potential = {'labels': ['N'], 'pot_type': 'paw', 'functional': 'pbe'}\n",
      "hubbards = {}\n",
      "potcar_symbols = ['pbe N']\n",
      "oxide_type = None\n",
      "Data:\n",
      "oxide_type = None, ComputedEntry mp-999498 - N4\n",
      "Energy = -27.3200\n",
      "Correction = -4.4899\n",
      "Parameters:\n",
      "run_type = GGA\n",
      "is_hubbard = False\n",
      "pseudo_potential = {'labels': ['N'], 'pot_type': 'paw', 'functional': 'pbe'}\n",
      "hubbards = {}\n",
      "potcar_symbols = ['pbe N']\n",
      "oxide_type = None\n",
      "Data:\n",
      "oxide_type = None, ComputedEntry mp-154 - N8\n",
      "Energy = -66.6153\n",
      "Correction = 2.9956\n",
      "Parameters:\n",
      "run_type = GGA\n",
      "is_hubbard = False\n",
      "pseudo_potential = {'labels': ['N'], 'pot_type': 'paw', 'functional': 'pbe'}\n",
      "hubbards = {}\n",
      "potcar_symbols = ['pbe N']\n",
      "oxide_type = None\n",
      "Data:\n",
      "oxide_type = None, ComputedEntry mp-672233 - N4\n",
      "Energy = -33.2211\n",
      "Correction = 1.4112\n",
      "Parameters:\n",
      "run_type = GGA\n",
      "is_hubbard = False\n",
      "pseudo_potential = {'labels': ['N'], 'pot_type': 'paw', 'functional': 'pbe'}\n",
      "hubbards = {}\n",
      "potcar_symbols = ['pbe N']\n",
      "oxide_type = None\n",
      "Data:\n",
      "oxide_type = None, ComputedEntry mp-754514 - N2\n",
      "Energy = -14.5822\n",
      "Correction = -1.3227\n",
      "Parameters:\n",
      "run_type = GGA\n",
      "is_hubbard = False\n",
      "pseudo_potential = {'labels': ['N'], 'pot_type': 'paw', 'functional': 'pbe'}\n",
      "hubbards = {}\n",
      "potcar_symbols = ['pbe N']\n",
      "oxide_type = None\n",
      "Data:\n",
      "oxide_type = None, ComputedEntry mp-2659 - Li1 N3\n",
      "Energy = -27.4343\n",
      "Correction = 0.0000\n",
      "Parameters:\n",
      "run_type = GGA\n",
      "is_hubbard = False\n",
      "pseudo_potential = {'labels': ['Li_sv', 'N'], 'pot_type': 'paw', 'functional': 'pbe'}\n",
      "hubbards = {}\n",
      "potcar_symbols = ['pbe Li_sv', 'pbe N']\n",
      "oxide_type = None\n",
      "Data:\n",
      "oxide_type = None, ComputedEntry mp-2341 - Li6 N2\n",
      "Energy = -30.9606\n",
      "Correction = 0.0000\n",
      "Parameters:\n",
      "run_type = GGA\n",
      "is_hubbard = False\n",
      "pseudo_potential = {'labels': ['Li_sv', 'N'], 'pot_type': 'paw', 'functional': 'pbe'}\n",
      "hubbards = {}\n",
      "potcar_symbols = ['pbe Li_sv', 'pbe N']\n",
      "oxide_type = None\n",
      "Data:\n",
      "oxide_type = None, ComputedEntry mp-2251 - Li3 N1\n",
      "Energy = -15.5190\n",
      "Correction = 0.0000\n",
      "Parameters:\n",
      "run_type = GGA\n",
      "is_hubbard = False\n",
      "pseudo_potential = {'labels': ['Li_sv', 'N'], 'pot_type': 'paw', 'functional': 'pbe'}\n",
      "hubbards = {}\n",
      "potcar_symbols = ['pbe Li_sv', 'pbe N']\n",
      "oxide_type = None\n",
      "Data:\n",
      "oxide_type = None]\n"
     ]
    }
   ],
   "source": [
    "import pymatgen as mg\n",
    "import os, re\n",
    "rester = mg.MPRester(os.environ['PMG_MAPI_KEY'])\n",
    "\n",
    "results = rester.query(\"N\", ['energy'])\n",
    "print(results)\n",
    "\n",
    "mp_entries = m.get_entries_in_chemsys([\"Li\", \"N\"])\n",
    "print(mp_entries.st)\n",
    "\n",
    "# with mg.MPRester(os.environ['PMG_MAPI_KEY']) as m:\n",
    "\n",
    "#     # Get all energies of materials with formula \"*2O\".\n",
    "#     results = m.query(\"*2O\", ['energy'])\n",
    "\n",
    "#     # Get the formulas and energies of materials with materials_id mp-1234\n",
    "#     # or with formula FeO.\n",
    "#     results = m.query(\"FeO mp-1234\", ['pretty_formula', 'energy'])\n",
    "\n",
    "# #     # Get all compounds of the form ABO3\n",
    "# #     results = m.query(\"**O3\", ['pretty_formula', 'energy'])\n"
   ]
  },
  {
   "cell_type": "code",
   "execution_count": 103,
   "metadata": {},
   "outputs": [
    {
     "data": {
      "text/plain": [
       "list"
      ]
     },
     "execution_count": 103,
     "metadata": {},
     "output_type": "execute_result"
    }
   ],
   "source": [
    "type(mp_entries)"
   ]
  },
  {
   "cell_type": "code",
   "execution_count": 114,
   "metadata": {},
   "outputs": [
    {
     "data": {
      "text/plain": [
       "ComputedEntry mp-135 - Li1\n",
       "Energy = -1.9089\n",
       "Correction = 0.0000\n",
       "Parameters:\n",
       "run_type = GGA\n",
       "is_hubbard = False\n",
       "pseudo_potential = {'labels': ['Li_sv'], 'pot_type': 'paw', 'functional': 'pbe'}\n",
       "hubbards = {}\n",
       "potcar_symbols = ['pbe Li_sv']\n",
       "oxide_type = None\n",
       "Data:\n",
       "oxide_type = None"
      ]
     },
     "execution_count": 114,
     "metadata": {},
     "output_type": "execute_result"
    }
   ],
   "source": [
    "mp_entries[0]"
   ]
  },
  {
   "cell_type": "code",
   "execution_count": null,
   "metadata": {
    "collapsed": true
   },
   "outputs": [],
   "source": []
  },
  {
   "cell_type": "code",
   "execution_count": null,
   "metadata": {
    "collapsed": true
   },
   "outputs": [],
   "source": []
  },
  {
   "cell_type": "code",
   "execution_count": null,
   "metadata": {
    "collapsed": true
   },
   "outputs": [],
   "source": []
  },
  {
   "cell_type": "markdown",
   "metadata": {},
   "source": [
    "# Query methods\n",
    "\n",
    "There are three kinds of queries:\n",
    "\n",
    "1. Formula, e.g., \"Fe2O3\", \"*TiO2“\n",
    "2. Chemical systems, e.g., \"Sr-Ti-O\", \"*-Fe-O\"\n",
    "3. Materials ID, e.g., \"mp-199\"\n",
    "\n",
    "The MPRester automatically detects what kind of query is being made. Also, for formulas and chemical systems, wildcards are supported with a \\*. That means *2O will yield a list of the following formula results:\n",
    "\n",
    "B2O, Xe2O, Li2O ...\n",
    "\n"
   ]
  },
  {
   "cell_type": "code",
   "execution_count": 123,
   "metadata": {},
   "outputs": [
    {
     "name": "stdout",
     "output_type": "stream",
     "text": [
      "[{'material_id': 'mp-22862',\n",
      "  'structure': Structure Summary\n",
      "Lattice\n",
      "    abc : 4.0246351157711695 4.0246351145167107 4.0246351200000001\n",
      " angles : 59.999999954931127 59.999999965241919 60.000000013971373\n",
      " volume : 46.096137758208265\n",
      "      A : 3.4854362499999998 0.0 2.0123175600000001\n",
      "      B : 1.16181208 3.2861008100000002 2.0123175600000001\n",
      "      C : 0.0 0.0 4.0246351200000001\n",
      "PeriodicSite: Na (0.0000, 0.0000, 0.0000) [0.0000, 0.0000, 0.0000]\n",
      "PeriodicSite: Cl (2.3236, 1.6431, 4.0246) [0.5000, 0.5000, 0.5000]},\n",
      " {'material_id': 'mp-22851',\n",
      "  'structure': Structure Summary\n",
      "Lattice\n",
      "    abc : 3.5044562500000001 3.5044562500000001 3.5044562500000001\n",
      " angles : 90.0 90.0 90.0\n",
      " volume : 43.038975786715604\n",
      "      A : 3.5044562500000001 0.0 0.0\n",
      "      B : 0.0 3.5044562500000001 0.0\n",
      "      C : 0.0 0.0 3.5044562500000001\n",
      "PeriodicSite: Na (0.0000, 0.0000, 0.0000) [0.0000, 0.0000, 0.0000]\n",
      "PeriodicSite: Cl (1.7522, 1.7522, 1.7522) [0.5000, 0.5000, 0.5000]}]\n"
     ]
    }
   ],
   "source": [
    "import pymatgen as mg\n",
    "import os, re\n",
    "from pprint import pprint\n",
    "rester = mg.MPRester(os.environ['PMG_MAPI_KEY'])\n",
    "# or we can just use\n",
    "# rester = mg.MPRester()\n",
    "\n",
    "\n",
    "# Initializing MPRester. Note that you can call MPRester. MPRester looks for the API key in two places: \n",
    "# - Supplying it directly as an __init__ arg.\n",
    "# - Setting the \"MAPI_KEY\" environment variable.\n",
    "# Please obtain your API key at https://www.materialsproject.org/dashboard\n",
    "\n",
    "#The following query returns all structures in the Materials Project with formula \"Fe2O3\"\n",
    "pprint(n.get_data(\"NaCl\", prop=\"structure\"))"
   ]
  },
  {
   "cell_type": "code",
   "execution_count": 2,
   "metadata": {},
   "outputs": [
    {
     "name": "stdout",
     "output_type": "stream",
     "text": [
      "[{'material_id': 'mp-1605', 'pretty_formula': 'Ag3O4'},\n",
      " {'material_id': 'mp-18748', 'pretty_formula': 'Co3O4'},\n",
      " {'material_id': 'mp-772696', 'pretty_formula': 'Cr3O4'},\n",
      " {'material_id': 'mp-650112', 'pretty_formula': 'Fe3O4'},\n",
      " {'material_id': 'mp-18731', 'pretty_formula': 'Fe3O4'},\n",
      " {'material_id': 'mp-705416', 'pretty_formula': 'Fe3O4'},\n",
      " {'material_id': 'mp-715811', 'pretty_formula': 'Fe3O4'},\n",
      " {'material_id': 'mp-715438', 'pretty_formula': 'Fe3O4'},\n",
      " {'material_id': 'mp-612405', 'pretty_formula': 'Fe3O4'},\n",
      " {'material_id': 'mp-715558', 'pretty_formula': 'Fe3O4'},\n",
      " {'material_id': 'mp-714989', 'pretty_formula': 'Fe3O4'},\n",
      " {'material_id': 'mp-716052', 'pretty_formula': 'Fe3O4'},\n",
      " {'material_id': 'mp-541907', 'pretty_formula': 'Fe3O4'},\n",
      " {'material_id': 'mp-31770', 'pretty_formula': 'Fe3O4'},\n",
      " {'material_id': 'mp-19306', 'pretty_formula': 'Fe3O4'},\n",
      " {'material_id': 'mp-542433', 'pretty_formula': 'Fe3O4'},\n",
      " {'material_id': 'mp-715275', 'pretty_formula': 'Fe3O4'},\n",
      " {'material_id': 'mp-715614', 'pretty_formula': 'Fe3O4'},\n",
      " {'material_id': 'mp-25696', 'pretty_formula': 'Mn3O4'},\n",
      " {'material_id': 'mp-638270', 'pretty_formula': 'Mn3O4'},\n",
      " {'material_id': 'mp-18759', 'pretty_formula': 'Mn3O4'},\n",
      " {'material_id': 'mp-656887', 'pretty_formula': 'Ni3O4'},\n",
      " {'material_id': 'mp-714961', 'pretty_formula': 'Ni3O4'},\n",
      " {'material_id': 'mp-849536', 'pretty_formula': 'Ni3O4'},\n",
      " {'material_id': 'mp-636813', 'pretty_formula': 'Pb3O4'},\n",
      " {'material_id': 'mp-21452', 'pretty_formula': 'Pb3O4'},\n",
      " {'material_id': 'mp-22633', 'pretty_formula': 'Pb3O4'},\n",
      " {'material_id': 'mp-1604', 'pretty_formula': 'Pt3O4'},\n",
      " {'material_id': 'mp-601193', 'pretty_formula': 'Pt3O4'},\n",
      " {'material_id': 'mp-755875', 'pretty_formula': 'Ti3O4'}]\n"
     ]
    }
   ],
   "source": [
    "import pymatgen as mg\n",
    "import os, re\n",
    "from pprint import pprint\n",
    "rester = mg.MPRester(os.environ['PMG_MAPI_KEY'])\n",
    "# or we can just use\n",
    "# rester = mg.MPRester()\n",
    "\n",
    "\n",
    "# Initializing MPRester. Note that you can call MPRester. MPRester looks for the API key in two places: \n",
    "# - Supplying it directly as an __init__ arg.\n",
    "# - Setting the \"MAPI_KEY\" environment variable.\n",
    "# Please obtain your API key at https://www.materialsproject.org/dashboard\n",
    "\n",
    "pprint(rester.get_data(\"*3O4\", prop=\"pretty_formula\"))"
   ]
  },
  {
   "cell_type": "code",
   "execution_count": 5,
   "metadata": {},
   "outputs": [
    {
     "data": {
      "image/png": "[encoded data removed]",
      "text/plain": [
       "<matplotlib.figure.Figure at 0x107640210>"
      ]
     },
     "metadata": {},
     "output_type": "display_data"
    }
   ],
   "source": [
    "%matplotlib inline\n",
    "\n",
    "import pymatgen as mg\n",
    "import os, re\n",
    "from pprint import pprint\n",
    "from pymatgen.electronic_structure.plotter import DosPlotter, BSPlotter\n",
    "rester = mg.MPRester(os.environ['PMG_MAPI_KEY'])\n",
    "\n",
    "\n",
    "# or we can just use\n",
    "# rester = mg.MPRester()\n",
    "\n",
    "\n",
    "# Initializing MPRester. Note that you can call MPRester. MPRester looks for the API key in two places: \n",
    "# - Supplying it directly as an __init__ arg.\n",
    "# - Setting the \"MAPI_KEY\" environment variable.\n",
    "# Please obtain your API key at https://www.materialsproject.org/dashboard\n",
    "\n",
    "dos = rester.get_dos_by_material_id('mp-149')\n",
    "pdos = dos.get_spd_dos()\n",
    "dos_plotter = DosPlotter()\n",
    "dos_plotter.add_dos_dict(pdos)\n",
    "dos_plotter.show()\n",
    "\n",
    "\n",
    "# dos = m.get_dos_by_material_id(\"mp-19017\")\n",
    "# bs = m.get_bandstructure_by_material_id(\"mp-19017\")\n",
    "\n",
    "# from pymatgen.electronic_structure.plotter import DosPlotter, BSPlotter\n",
    "\n",
    "\n",
    "# dos_plotter = DosPlotter()\n",
    "# dos_plotter.add_dos_dict(dos.get_spd_dos())\n",
    "# dos_plotter.show()\n",
    "\n",
    "# bs_plotter = BSPlotter(bs)\n",
    "# bs_plotter.show()"
   ]
  },
  {
   "cell_type": "code",
   "execution_count": 7,
   "metadata": {},
   "outputs": [
    {
     "data": {
      "image/png": "[encoded data removed]",
      "text/plain": [
       "<matplotlib.figure.Figure at 0x10f746690>"
      ]
     },
     "metadata": {},
     "output_type": "display_data"
    }
   ],
   "source": [
    "bs = rester.get_bandstructure_by_material_id('mp-149')\n",
    "bs_plotter = BSPlotter(bs)\n",
    "bs_plotter.show()"
   ]
  },
  {
   "cell_type": "code",
   "execution_count": null,
   "metadata": {
    "collapsed": true
   },
   "outputs": [],
   "source": []
  },
  {
   "cell_type": "code",
   "execution_count": 27,
   "metadata": {},
   "outputs": [
    {
     "ename": "MPRestError",
     "evalue": "Expecting ',' delimiter: line 1 column 2033 (char 2032)",
     "output_type": "error",
     "traceback": [
      "\u001b[0;31m---------------------------------------------------------------------------\u001b[0m",
      "\u001b[0;31mMPRestError\u001b[0m                               Traceback (most recent call last)",
      "\u001b[0;32m<ipython-input-27-1bb718098096>\u001b[0m in \u001b[0;36m<module>\u001b[0;34m()\u001b[0m\n\u001b[1;32m     19\u001b[0m \u001b[0mdata\u001b[0m \u001b[0;34m=\u001b[0m \u001b[0mrester\u001b[0m\u001b[0;34m.\u001b[0m\u001b[0mget_data\u001b[0m\u001b[0;34m(\u001b[0m\u001b[0;34m'mp-149'\u001b[0m\u001b[0;34m)\u001b[0m\u001b[0;34m\u001b[0m\u001b[0m\n\u001b[1;32m     20\u001b[0m \u001b[0;34m\u001b[0m\u001b[0m\n\u001b[0;32m---> 21\u001b[0;31m \u001b[0mx\u001b[0m \u001b[0;34m=\u001b[0m  \u001b[0mrester\u001b[0m\u001b[0;34m.\u001b[0m\u001b[0mget_stability\u001b[0m\u001b[0;34m(\u001b[0m\u001b[0mdata\u001b[0m\u001b[0;34m[\u001b[0m\u001b[0;36m0\u001b[0m\u001b[0;34m]\u001b[0m\u001b[0;34m)\u001b[0m\u001b[0;34m\u001b[0m\u001b[0m\n\u001b[0m",
      "\u001b[0;32m/Users/ywfang/miniconda3/envs/aiida/lib/python2.7/site-packages/pymatgen/ext/matproj.pyc\u001b[0m in \u001b[0;36mget_stability\u001b[0;34m(self, entries)\u001b[0m\n\u001b[1;32m    829\u001b[0m                               .format(response.status_code, response.text))\n\u001b[1;32m    830\u001b[0m         \u001b[0;32mexcept\u001b[0m \u001b[0mException\u001b[0m \u001b[0;32mas\u001b[0m \u001b[0mex\u001b[0m\u001b[0;34m:\u001b[0m\u001b[0;34m\u001b[0m\u001b[0m\n\u001b[0;32m--> 831\u001b[0;31m             \u001b[0;32mraise\u001b[0m \u001b[0mMPRestError\u001b[0m\u001b[0;34m(\u001b[0m\u001b[0mstr\u001b[0m\u001b[0;34m(\u001b[0m\u001b[0mex\u001b[0m\u001b[0;34m)\u001b[0m\u001b[0;34m)\u001b[0m\u001b[0;34m\u001b[0m\u001b[0m\n\u001b[0m\u001b[1;32m    832\u001b[0m \u001b[0;34m\u001b[0m\u001b[0m\n\u001b[1;32m    833\u001b[0m     \u001b[0;32mdef\u001b[0m \u001b[0mget_reaction\u001b[0m\u001b[0;34m(\u001b[0m\u001b[0mself\u001b[0m\u001b[0;34m,\u001b[0m \u001b[0mreactants\u001b[0m\u001b[0;34m,\u001b[0m \u001b[0mproducts\u001b[0m\u001b[0;34m)\u001b[0m\u001b[0;34m:\u001b[0m\u001b[0;34m\u001b[0m\u001b[0m\n",
      "\u001b[0;31mMPRestError\u001b[0m: Expecting ',' delimiter: line 1 column 2033 (char 2032)"
     ]
    }
   ],
   "source": [
    "%matplotlib inline\n",
    "\n",
    "import pymatgen as mg\n",
    "import os, re\n",
    "from pprint import pprint\n",
    "from pymatgen.electronic_structure.plotter import DosPlotter, BSPlotter\n",
    "rester = mg.MPRester(os.environ['PMG_MAPI_KEY'])\n",
    "\n",
    "\n",
    "# or we can just use\n",
    "# rester = mg.MPRester()\n",
    "\n",
    "\n",
    "# Initializing MPRester. Note that you can call MPRester. MPRester looks for the API key in two places: \n",
    "# - Supplying it directly as an __init__ arg.\n",
    "# - Setting the \"MAPI_KEY\" environment variable.\n",
    "# Please obtain your API key at https://www.materialsproject.org/dashboard\n",
    "\n",
    "data = rester.get_data('mp-149')\n",
    "\n",
    "x =  rester.get_stability(data[0])"
   ]
  },
  {
   "cell_type": "code",
   "execution_count": 20,
   "metadata": {},
   "outputs": [
    {
     "data": {
      "text/plain": [
       "{u'band_gap': 0.6118999999999994,\n",
       " u'cif': u\"# generated using pymatgen\\ndata_Si\\n_symmetry_space_group_name_H-M   'P 1'\\n_cell_length_a   3.86697462\\n_cell_length_b   3.86697462\\n_cell_length_c   3.86697462\\n_cell_angle_alpha   60.00000003\\n_cell_angle_beta   60.00000002\\n_cell_angle_gamma   60.00000002\\n_symmetry_Int_Tables_number   1\\n_chemical_formula_structural   Si\\n_chemical_formula_sum   Si2\\n_cell_volume   40.8882918885\\n_cell_formula_units_Z   2\\nloop_\\n _symmetry_equiv_pos_site_id\\n _symmetry_equiv_pos_as_xyz\\n  1  'x, y, z'\\nloop_\\n _atom_site_type_symbol\\n _atom_site_label\\n _atom_site_symmetry_multiplicity\\n _atom_site_fract_x\\n _atom_site_fract_y\\n _atom_site_fract_z\\n _atom_site_occupancy\\n  Si  Si1  1  0.875000  0.875000  0.875000  1\\n  Si  Si2  1  0.125000  0.125000  0.125000  1\\n\",\n",
       " u'density': 2.281194137085888,\n",
       " u'e_above_hull': 0,\n",
       " u'elasticity': {u'G_Reuss': 59.0,\n",
       "  u'G_VRH': 61.0,\n",
       "  u'G_Voigt': 63.0,\n",
       "  u'G_Voigt_Reuss_Hill': 61.0,\n",
       "  u'K_Reuss': 83.0,\n",
       "  u'K_VRH': 83.0,\n",
       "  u'K_Voigt': 83.0,\n",
       "  u'K_Voigt_Reuss_Hill': 83.0,\n",
       "  u'compliance_tensor': [[8.7, -2.3, -2.3, 0.0, 0.0, 0.0],\n",
       "   [-2.3, 8.7, -2.3, 0.0, 0.0, 0.0],\n",
       "   [-2.3, -2.3, 8.7, 0.0, 0.0, 0.0],\n",
       "   [0.0, 0.0, 0.0, 13.4, 0.0, 0.0],\n",
       "   [0.0, 0.0, 0.0, 0.0, 13.4, 0.0],\n",
       "   [0.0, 0.0, 0.0, 0.0, 0.0, 13.4]],\n",
       "  u'elastic_anisotropy': 0.3,\n",
       "  u'elastic_tensor': [[144.0, 53.0, 53.0, 0.0, 0.0, 0.0],\n",
       "   [53.0, 144.0, 53.0, 0.0, 0.0, 0.0],\n",
       "   [53.0, 53.0, 144.0, 0.0, 0.0, 0.0],\n",
       "   [0.0, 0.0, 0.0, 75.0, 0.0, 0.0],\n",
       "   [0.0, 0.0, 0.0, 0.0, 75.0, 0.0],\n",
       "   [0.0, 0.0, 0.0, 0.0, 0.0, 75.0]],\n",
       "  u'elastic_tensor_original': [[143.59747367536096,\n",
       "    52.71818094915727,\n",
       "    52.71825395459663,\n",
       "    0.0,\n",
       "    0.0,\n",
       "    0.0],\n",
       "   [52.71826703814804, 143.59734691417395, 52.71825395459663, 0.0, 0.0, 0.0],\n",
       "   [52.71826703814804, 52.71818094915727, 143.59732858687707, 0.0, 0.0, 0.0],\n",
       "   [0.0, 0.0, 0.0, 74.62512568333334, 0.0, 0.0],\n",
       "   [0.0, 0.0, 0.0, 0.0, 74.62690286333333, 0.0],\n",
       "   [0.0, 0.0, 0.0, 0.0, 0.0, 74.62217889000001]],\n",
       "  u'homogeneous_poisson': 0.2,\n",
       "  u'poisson_ratio': 0.2,\n",
       "  u'state': u'successful',\n",
       "  u'universal_anisotropy': 0.3,\n",
       "  u'warnings': None},\n",
       " u'elements': [u'Si'],\n",
       " u'energy': -10.85073298,\n",
       " u'energy_per_atom': -5.42536649,\n",
       " u'formation_energy_per_atom': 0.0,\n",
       " u'full_formula': u'Si2',\n",
       " u'hubbards': {},\n",
       " u'icsd_id': 150530,\n",
       " u'icsd_ids': [150530,\n",
       "  181356,\n",
       "  43403,\n",
       "  181907,\n",
       "  53782,\n",
       "  53783,\n",
       "  52266,\n",
       "  94261,\n",
       "  652257,\n",
       "  182730,\n",
       "  67788,\n",
       "  652258,\n",
       "  659044,\n",
       "  43610,\n",
       "  652255,\n",
       "  60385,\n",
       "  60386,\n",
       "  60387,\n",
       "  60388,\n",
       "  60389,\n",
       "  29287,\n",
       "  29288,\n",
       "  52457,\n",
       "  181355,\n",
       "  76268,\n",
       "  51688,\n",
       "  652265,\n",
       "  41979],\n",
       " u'is_compatible': True,\n",
       " u'is_hubbard': False,\n",
       " u'material_id': u'mp-149',\n",
       " u'nelements': 1,\n",
       " u'nsites': 2,\n",
       " u'oxide_type': u'None',\n",
       " u'pretty_formula': u'Si',\n",
       " u'spacegroup': {u'crystal_system': u'cubic',\n",
       "  u'hall': u'F 4d 2 3 -1d',\n",
       "  u'number': 227,\n",
       "  u'point_group': u'm-3m',\n",
       "  u'source': u'spglib',\n",
       "  u'symbol': u'Fd-3m'},\n",
       " u'tags': [u'Silicon (O-doped)',\n",
       "  u'Silicon - type I-clathrate',\n",
       "  u'Silicon - diamond phase',\n",
       "  u'Silicon hydride (1/0.5)',\n",
       "  u'Silicon',\n",
       "  u'Silicon - cubic diamond form'],\n",
       " u'task_ids': [u'mp-11721',\n",
       "  u'mp-655585',\n",
       "  u'mp-656511',\n",
       "  u'mp-149',\n",
       "  u'mp-655936'],\n",
       " u'total_magnetization': -1e-07,\n",
       " u'unit_cell_formula': {u'Si': 2.0},\n",
       " u'volume': 40.888291888494884}"
      ]
     },
     "execution_count": 20,
     "metadata": {},
     "output_type": "execute_result"
    }
   ],
   "source": [
    "data[0]"
   ]
  },
  {
   "cell_type": "code",
   "execution_count": 24,
   "metadata": {},
   "outputs": [
    {
     "ename": "TypeError",
     "evalue": "get_stability() takes exactly 2 arguments (1 given)",
     "output_type": "error",
     "traceback": [
      "\u001b[0;31m---------------------------------------------------------------------------\u001b[0m",
      "\u001b[0;31mTypeError\u001b[0m                                 Traceback (most recent call last)",
      "\u001b[0;32m<ipython-input-24-1f6ff4ceddba>\u001b[0m in \u001b[0;36m<module>\u001b[0;34m()\u001b[0m\n\u001b[0;32m----> 1\u001b[0;31m \u001b[0mdata1\u001b[0m \u001b[0;34m=\u001b[0m \u001b[0mrester\u001b[0m\u001b[0;34m.\u001b[0m\u001b[0mget_stability\u001b[0m\u001b[0;34m(\u001b[0m\u001b[0;34m)\u001b[0m\u001b[0;34m\u001b[0m\u001b[0m\n\u001b[0m",
      "\u001b[0;31mTypeError\u001b[0m: get_stability() takes exactly 2 arguments (1 given)"
     ]
    }
   ],
   "source": [
    "data1 = rester.get_stability()"
   ]
  },
  {
   "cell_type": "code",
   "execution_count": 1,
   "metadata": {},
   "outputs": [
    {
     "name": "stdout",
     "output_type": "stream",
     "text": [
      "[{'material_id': 'mp-20943', 'pretty_formula': 'TePb'},\n",
      " {'material_id': 'mp-19717', 'pretty_formula': 'TePb'},\n",
      " {'material_id': 'mp-685022', 'pretty_formula': 'TePb'}]\n"
     ]
    }
   ],
   "source": [
    "import pymatgen as mg\n",
    "import os, re\n",
    "from pprint import pprint\n",
    "rester = mg.MPRester(os.environ['PMG_MAPI_KEY'])\n",
    "# or we can just use\n",
    "# rester = mg.MPRester()\n",
    "\n",
    "\n",
    "# Initializing MPRester. Note that you can call MPRester. MPRester looks for the API key in two places: \n",
    "# - Supplying it directly as an __init__ arg.\n",
    "# - Setting the \"MAPI_KEY\" environment variable.\n",
    "# Please obtain your API key at https://www.materialsproject.org/dashboard\n",
    "\n",
    "pprint(rester.get_data(\"PbTe\", prop=\"pretty_formula\"))"
   ]
  },
  {
   "cell_type": "code",
   "execution_count": null,
   "metadata": {},
   "outputs": [],
   "source": []
  }
 ],
 "metadata": {
  "kernelspec": {
   "display_name": "Python 3",
   "language": "python",
   "name": "python3"
  },
  "language_info": {
   "codemirror_mode": {
    "name": "ipython",
    "version": 3
   },
   "file_extension": ".py",
   "mimetype": "text/x-python",
   "name": "python",
   "nbconvert_exporter": "python",
   "pygments_lexer": "ipython3",
   "version": "3.6.3"
  }
 },
 "nbformat": 4,
 "nbformat_minor": 2
}
